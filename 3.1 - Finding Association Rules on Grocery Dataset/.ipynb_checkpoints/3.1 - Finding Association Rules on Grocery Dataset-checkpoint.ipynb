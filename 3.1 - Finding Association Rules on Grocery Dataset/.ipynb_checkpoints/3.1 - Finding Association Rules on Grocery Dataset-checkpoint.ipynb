{
 "cells": [
  {
   "cell_type": "markdown",
   "metadata": {},
   "source": [
    "## Finding Association Rules on Grocery Dataset\n",
    "In this Notebook, we will be implementing an algorithm for mining association rules from a dataset. We will test our algorithm with a small synthetic (artificial) dataset, before we use the algorithm to find association rules from a larger dataset - the [grocery dataset](https://www.kaggle.com/irfanasrullah/groceries).\n",
    "\n",
    "Our Notebooks in CSMODEL are designed to be guided learning activities. To use them, simply through the cells from top to bottom, following the directions along the way. If you find any unclear parts or mistakes in the Notebooks, email me at thomas.tiam-lee@dlsu.edu.ph."
   ]
  },
  {
   "cell_type": "markdown",
   "metadata": {},
   "source": [
    "## Import\n",
    "Import **pandas** and **matplotlib**."
   ]
  },
  {
   "cell_type": "code",
   "execution_count": 2,
   "metadata": {},
   "outputs": [],
   "source": [
    "import numpy as np\n",
    "import pandas as pd\n",
    "import matplotlib.pyplot as plt"
   ]
  },
  {
   "cell_type": "markdown",
   "metadata": {},
   "source": [
    "## Synthetic Dataset\n",
    "Before we use a more complicated dataset, we will first test our algorithm using a synthetic (artificial) dataset created using random numbers. The dataset contains 20 distinct items. There are 300 observations representing the baskets in the market-basket model. Each observation (basket) contains at most 8 items."
   ]
  },
  {
   "cell_type": "markdown",
   "metadata": {},
   "source": [
    "Let's first create the synthetic dataset using the [`choice`](https://docs.scipy.org/doc//numpy-1.10.4/reference/generated/numpy.random.choice.html) function of `numpy`. You may check the documentation of the function for further information. We have set the same seed to have the same values in the synthetic dataset."
   ]
  },
  {
   "cell_type": "code",
   "execution_count": 3,
   "metadata": {},
   "outputs": [],
   "source": [
    "np.random.seed(1)\n",
    "baskets = [np.sort(np.random.choice(20, size=(np.random.randint(1, 9)), replace=False)) for i in range(300)]"
   ]
  },
  {
   "cell_type": "markdown",
   "metadata": {},
   "source": [
    "Let's display the contents of the synthetic dataset. It should list 300 baskets with its contents."
   ]
  },
  {
   "cell_type": "code",
   "execution_count": 4,
   "metadata": {},
   "outputs": [
    {
     "name": "stdout",
     "output_type": "stream",
     "text": [
      "Basket 0 [ 3 10 14 15 17 18]\n",
      "Basket 1 [ 2  3  5  8 17]\n",
      "Basket 2 [ 2 11 12 16 17 18]\n",
      "Basket 3 [16]\n",
      "Basket 4 [ 4  5 12 16]\n",
      "Basket 5 [ 0  1  3  9 17 18]\n",
      "Basket 6 [11]\n",
      "Basket 7 [ 3  8 13]\n",
      "Basket 8 [ 2  5 12 13 19]\n",
      "Basket 9 [ 1  9 12 14 19]\n",
      "Basket 10 [6 7]\n",
      "Basket 11 [ 1  6  8  9 13 15 17 18]\n",
      "Basket 12 [ 3  6  9 11 12 14 18 19]\n",
      "Basket 13 [ 1  3  4  5  7  8 11]\n",
      "Basket 14 [ 1  2  9 11 15 16 18 19]\n",
      "Basket 15 [ 3  4  8  9 10 14]\n",
      "Basket 16 [ 8  9 12 13 18]\n",
      "Basket 17 [1 5 8]\n",
      "Basket 18 [6 7]\n",
      "Basket 19 [ 3 19]\n",
      "Basket 20 [ 5  8 13 15]\n",
      "Basket 21 [ 1  3  4 15 19]\n",
      "Basket 22 [ 0  3 12]\n",
      "Basket 23 [ 1  5  7  9 14 17]\n",
      "Basket 24 [10 14 17]\n",
      "Basket 25 [0 3 4]\n",
      "Basket 26 [ 4  7 10 18]\n",
      "Basket 27 [ 2  5 11 17 18]\n",
      "Basket 28 [ 1  3  7  8 11 17 18]\n",
      "Basket 29 [0 2 4 9]\n",
      "Basket 30 [ 3 15 17 19]\n",
      "Basket 31 [8]\n",
      "Basket 32 [ 3  9 11]\n",
      "Basket 33 [ 4  5  7  8  9 16 17]\n",
      "Basket 34 [ 2  6  7 19]\n",
      "Basket 35 [5]\n",
      "Basket 36 [ 1  3  7 10 12 15 16]\n",
      "Basket 37 [ 1 14]\n",
      "Basket 38 [ 2  3  6 13 18 19]\n",
      "Basket 39 [ 2  6 11 14 16]\n",
      "Basket 40 [3]\n",
      "Basket 41 [ 8  9 10 11 12 13 14 16]\n",
      "Basket 42 [10 14]\n",
      "Basket 43 [ 0  2  3  5  6 18 19]\n",
      "Basket 44 [ 2  3  5  7 11 14]\n",
      "Basket 45 [ 4  6  8 14 18 19]\n",
      "Basket 46 [ 0  2 15 18]\n",
      "Basket 47 [ 3  6  7 13]\n",
      "Basket 48 [ 5  8 11 12 13 16]\n",
      "Basket 49 [ 1  3  7  8 10 12 15 16]\n",
      "Basket 50 [12 13 14 15 16 17 19]\n",
      "Basket 51 [ 1  6  7 19]\n",
      "Basket 52 [ 1  5  7 11 15 18]\n",
      "Basket 53 [10 17 18 19]\n",
      "Basket 54 [16]\n",
      "Basket 55 [ 7 12 14 17]\n",
      "Basket 56 [ 0  9 10]\n",
      "Basket 57 [ 1  3 11 12 16 18]\n",
      "Basket 58 [ 0  1  7  8 14 17]\n",
      "Basket 59 [ 1  2  8 10 12 16 19]\n",
      "Basket 60 [ 0  2  4 14]\n",
      "Basket 61 [ 1  2  7 11 12 16 18 19]\n",
      "Basket 62 [ 1  4  5  9 12 16]\n",
      "Basket 63 [ 5  6 11 12 19]\n",
      "Basket 64 [ 4  5  9 14 15]\n",
      "Basket 65 [ 7  8 16]\n",
      "Basket 66 [ 0  1  3 10 19]\n",
      "Basket 67 [ 5 16]\n",
      "Basket 68 [ 0  3  6  9 12 13 16]\n",
      "Basket 69 [ 5  6  9 10 16 17 18]\n",
      "Basket 70 [ 5  8 11 16 19]\n",
      "Basket 71 [ 6  7 10 11 13]\n",
      "Basket 72 [9]\n",
      "Basket 73 [ 2  5 17]\n",
      "Basket 74 [ 4  5  6  8 11 16 17]\n",
      "Basket 75 [1]\n",
      "Basket 76 [ 2  6  7  8 11 15 17]\n",
      "Basket 77 [ 1  3  7 11 16 18]\n",
      "Basket 78 [ 0  5  8 12]\n",
      "Basket 79 [ 1  6  7 11 12 13 16 19]\n",
      "Basket 80 [4]\n",
      "Basket 81 [ 2  4  8  9 13 14 17]\n",
      "Basket 82 [ 0  1  6  8 11 16 19]\n",
      "Basket 83 [18]\n",
      "Basket 84 [ 7 10 19]\n",
      "Basket 85 [ 1  3 15 18]\n",
      "Basket 86 [ 9 16 19]\n",
      "Basket 87 [ 0  6  8 15 18]\n",
      "Basket 88 [2 6 9]\n",
      "Basket 89 [ 0  1  2 11]\n",
      "Basket 90 [ 1  2 10 15 19]\n",
      "Basket 91 [ 4  5  7 16 17]\n",
      "Basket 92 [ 2  8 15 17]\n",
      "Basket 93 [ 4  6  9 16]\n",
      "Basket 94 [ 0  7  8 13 17 19]\n",
      "Basket 95 [ 0  2  3  5  6 10 13 16]\n",
      "Basket 96 [ 5  9 10 11 12 15]\n",
      "Basket 97 [ 4  7  8 13 16]\n",
      "Basket 98 [ 1  2  3 10 11]\n",
      "Basket 99 [ 2  4  7  8  9 13]\n",
      "Basket 100 [16 17]\n",
      "Basket 101 [12 13 16 18]\n",
      "Basket 102 [ 1  3  6 11 13 14 16 17]\n",
      "Basket 103 [ 5  6 12 14 19]\n",
      "Basket 104 [ 2 13 15 17 18 19]\n",
      "Basket 105 [ 5 11 12]\n",
      "Basket 106 [ 2  4  7  8 17 19]\n",
      "Basket 107 [ 1  3  6  8 16 17 18]\n",
      "Basket 108 [ 1  7 17]\n",
      "Basket 109 [ 1  4  6 11 12 13 19]\n",
      "Basket 110 [ 0  9 10 11 14]\n",
      "Basket 111 [ 1  2  3  8 19]\n",
      "Basket 112 [ 8 10 17 19]\n",
      "Basket 113 [ 9 11 13 17]\n",
      "Basket 114 [ 1  4  9 11 13 15 16]\n",
      "Basket 115 [ 1  3  7  8 10 12 13 14]\n",
      "Basket 116 [0]\n",
      "Basket 117 [ 1  7 11 19]\n",
      "Basket 118 [ 0  3  8  9 14 15 16 17]\n",
      "Basket 119 [ 0  3  6  8 10 15 17 18]\n",
      "Basket 120 [ 5 10 13 15 16 18]\n",
      "Basket 121 [ 3  5 11 15]\n",
      "Basket 122 [ 0 14]\n",
      "Basket 123 [14 15]\n",
      "Basket 124 [ 0  3  6 12 15 17 18]\n",
      "Basket 125 [ 1  5  6 10 12 15 18]\n",
      "Basket 126 [ 0  3  5 11 13]\n",
      "Basket 127 [ 0  3  4  6 10 11 18]\n",
      "Basket 128 [ 2  8  9 12 14 16 19]\n",
      "Basket 129 [ 6  8  9 11 13 15 17 19]\n",
      "Basket 130 [ 0  2  3  4 10 13 16 18]\n",
      "Basket 131 [ 5 14]\n",
      "Basket 132 [ 0  4 10 11 14 15 16 19]\n",
      "Basket 133 [ 2  3  4  8 14 17]\n",
      "Basket 134 [ 5  6  7  9 10 15 17 18]\n",
      "Basket 135 [10 16 17]\n",
      "Basket 136 [ 0  2  6  7 10 12 13 18]\n",
      "Basket 137 [ 4  6  7 10 11 15 18 19]\n",
      "Basket 138 [ 0  1  4  7  8 12 14 15]\n",
      "Basket 139 [ 0  8  9 10 11 13 14 16]\n",
      "Basket 140 [ 2  4  6 11 14 16 17 18]\n",
      "Basket 141 [ 3  5 10 16 17 18]\n",
      "Basket 142 [ 2  3 17]\n",
      "Basket 143 [ 2 12 13 14]\n",
      "Basket 144 [9]\n",
      "Basket 145 [ 0  1  5  7  8 14]\n",
      "Basket 146 [ 2  6  7  8 11 13]\n",
      "Basket 147 [ 2  3  9 10 18]\n",
      "Basket 148 [ 1  2  5 12 13 14 18]\n",
      "Basket 149 [ 4 11 14 18]\n",
      "Basket 150 [ 2  4  5  7  8 12]\n",
      "Basket 151 [18]\n",
      "Basket 152 [4 9]\n",
      "Basket 153 [ 3  4  5 14 17]\n",
      "Basket 154 [ 1 13 15]\n",
      "Basket 155 [ 2  7 16]\n",
      "Basket 156 [ 1 10]\n",
      "Basket 157 [ 0 13 17]\n",
      "Basket 158 [ 3  6 17]\n",
      "Basket 159 [ 1  4  6  8 10 12 13 18]\n",
      "Basket 160 [ 4 12 13 17]\n",
      "Basket 161 [6]\n",
      "Basket 162 [ 4 12]\n",
      "Basket 163 [ 9 12 14 16]\n",
      "Basket 164 [2 5 8]\n",
      "Basket 165 [ 0  7 19]\n",
      "Basket 166 [ 1  3 12 13 19]\n",
      "Basket 167 [17 18]\n",
      "Basket 168 [9]\n",
      "Basket 169 [ 0  1  6  8 12 18]\n",
      "Basket 170 [ 3  4  7 10 19]\n",
      "Basket 171 [ 0  1  3  6  8  9 12 15]\n",
      "Basket 172 [ 5 11]\n",
      "Basket 173 [ 3  5  6 13 16]\n",
      "Basket 174 [ 4  5  8 10 12 19]\n",
      "Basket 175 [6]\n",
      "Basket 176 [ 0  4  5  9 11 15]\n",
      "Basket 177 [ 0  1  4  5  9 15]\n",
      "Basket 178 [ 1  7  9 12 14 15 18 19]\n",
      "Basket 179 [ 7  9 16]\n",
      "Basket 180 [17]\n",
      "Basket 181 [ 0  4  5  8  9 11 12 17]\n",
      "Basket 182 [ 4 12]\n",
      "Basket 183 [12 17]\n",
      "Basket 184 [12 15]\n",
      "Basket 185 [2]\n",
      "Basket 186 [17]\n",
      "Basket 187 [ 0 19]\n",
      "Basket 188 [ 3  7  8 10 13 14 15 16]\n",
      "Basket 189 [7]\n",
      "Basket 190 [ 1  6  7  8 14 17]\n",
      "Basket 191 [ 1  9 11 18]\n",
      "Basket 192 [ 6  7 10 14 16 19]\n",
      "Basket 193 [ 0  2  6 12 14 15]\n",
      "Basket 194 [12 14 15]\n",
      "Basket 195 [ 0  1  2  8  9 10 17 18]\n",
      "Basket 196 [ 1  9 14 18]\n",
      "Basket 197 [ 8 15]\n",
      "Basket 198 [ 6 10 11 13 16 17]\n",
      "Basket 199 [ 0  6  7  8 15]\n",
      "Basket 200 [ 2  4 19]\n",
      "Basket 201 [ 6  8 10 11 14]\n",
      "Basket 202 [ 7 17]\n",
      "Basket 203 [ 0  3  7 15 18]\n",
      "Basket 204 [1]\n",
      "Basket 205 [ 0 13 17 18]\n",
      "Basket 206 [ 8 10 12 13]\n",
      "Basket 207 [ 4 13 15 17 19]\n",
      "Basket 208 [2]\n",
      "Basket 209 [ 3  5  9 10 11 13 15 17]\n",
      "Basket 210 [ 3  4  7  8 10 16 17 19]\n",
      "Basket 211 [ 0  4 10 12 15 16]\n",
      "Basket 212 [ 0  1 13]\n",
      "Basket 213 [ 0  2  3  8 10 14 17]\n",
      "Basket 214 [18]\n",
      "Basket 215 [ 1  5 12 13 16 19]\n",
      "Basket 216 [ 0  2  4  6  7 10 14 19]\n",
      "Basket 217 [ 1  9 12 15 17]\n",
      "Basket 218 [13 15]\n",
      "Basket 219 [ 5  7 16 18]\n",
      "Basket 220 [ 1  5  7 12 14 16 19]\n",
      "Basket 221 [ 0  1  2  8 12]\n",
      "Basket 222 [ 8 11 12 17]\n",
      "Basket 223 [ 0 12 13 14 16 17 18]\n",
      "Basket 224 [ 3  9 16 18]\n",
      "Basket 225 [ 1  2  4  6  8 12 17]\n",
      "Basket 226 [ 2  7 14 16]\n",
      "Basket 227 [ 4  7 10 17 19]\n",
      "Basket 228 [5]\n",
      "Basket 229 [2 5 8]\n",
      "Basket 230 [ 2  4 16]\n",
      "Basket 231 [7]\n",
      "Basket 232 [ 0  9 10 14 15]\n",
      "Basket 233 [ 5  8  9 16]\n",
      "Basket 234 [ 1  3  7 10 12 13 16 19]\n",
      "Basket 235 [ 8 11 12 13 17 19]\n",
      "Basket 236 [ 3  4 10 11 15 17]\n",
      "Basket 237 [ 4  5 15 16 18 19]\n",
      "Basket 238 [ 3 10 12]\n",
      "Basket 239 [ 7  8 13 17]\n",
      "Basket 240 [ 3 11 12 15]\n",
      "Basket 241 [11 13 19]\n",
      "Basket 242 [ 5  7  9 10 11 16 17]\n",
      "Basket 243 [ 3  8 13 15 16 19]\n",
      "Basket 244 [ 0  4  8 11 13 17 19]\n",
      "Basket 245 [8]\n",
      "Basket 246 [ 0  1  8 10 16 18]\n",
      "Basket 247 [ 1  3  9 10 12 13 17]\n",
      "Basket 248 [4 6]\n",
      "Basket 249 [ 3  5 19]\n",
      "Basket 250 [ 0  3  4  6  7 11 12 15]\n",
      "Basket 251 [ 1  4  6  7 10 12 15]\n",
      "Basket 252 [ 4 11 14 16]\n",
      "Basket 253 [ 1  3  4  9 16]\n",
      "Basket 254 [17]\n",
      "Basket 255 [ 0  2  5  8 10 15 16 18]\n",
      "Basket 256 [ 2 12 14 16 18]\n",
      "Basket 257 [ 7 17 18]\n",
      "Basket 258 [7]\n",
      "Basket 259 [4]\n",
      "Basket 260 [11]\n",
      "Basket 261 [ 1 10 16]\n",
      "Basket 262 [ 0  1  2  5 11]\n",
      "Basket 263 [ 1  2  8 17]\n",
      "Basket 264 [6]\n",
      "Basket 265 [ 0  5  9 11 14]\n",
      "Basket 266 [ 1  2  3  5  9 14 17 19]\n",
      "Basket 267 [2 5 9]\n",
      "Basket 268 [ 2  3  4 10 16 19]\n",
      "Basket 269 [ 2  4  6  7  9 10 16 18]\n",
      "Basket 270 [ 3 19]\n",
      "Basket 271 [ 3 13 14 19]\n",
      "Basket 272 [2 7]\n",
      "Basket 273 [10 16 18]\n",
      "Basket 274 [ 2  3  8 11 13]\n",
      "Basket 275 [ 1  3  5 12 16 18]\n",
      "Basket 276 [2 3]\n",
      "Basket 277 [ 0  2  4  5  7  8 18]\n",
      "Basket 278 [19]\n",
      "Basket 279 [ 1  4  6 11 14]\n",
      "Basket 280 [ 3  5  9 12 14 17 18]\n",
      "Basket 281 [10 12 14]\n",
      "Basket 282 [10 13 17]\n",
      "Basket 283 [ 4  7  9 11 16]\n",
      "Basket 284 [ 4  6  8  9 11 18 19]\n",
      "Basket 285 [ 0 13 14]\n",
      "Basket 286 [15 18]\n",
      "Basket 287 [ 3  8  9 13 17]\n",
      "Basket 288 [ 4 13 14 19]\n",
      "Basket 289 [ 0  1  3  9 10 17]\n",
      "Basket 290 [ 1  8 11 13 17]\n",
      "Basket 291 [13 15 16 17 19]\n",
      "Basket 292 [ 0  5  8 11 15 16]\n",
      "Basket 293 [ 0  2  4  6 12 14]\n",
      "Basket 294 [ 0  4 18]\n",
      "Basket 295 [15]\n",
      "Basket 296 [ 1  5 10 11 13 17]\n",
      "Basket 297 [ 1 14]\n",
      "Basket 298 [ 0  3 11 17]\n",
      "Basket 299 [18]\n"
     ]
    }
   ],
   "source": [
    "for i, basket in enumerate(baskets):\n",
    "    print('Basket', i, basket)"
   ]
  },
  {
   "cell_type": "markdown",
   "metadata": {},
   "source": [
    "As of now, our dataset is represented as a list of list. Instead of using this representation, we will convert our dataset to a matrix represented as a `pandas` `DataFrame`. The `DataFrame` will contain 300 rows - equivalent to the number of observations in the dataset, and 20 columns - equivalent to the number of distinct items in the dataset. The value in the cell in row `x` and column `y` is 1 if item `y` is in observation (basket) `x`, otherwise, the value in the cell in row `x` and column `y` is 0."
   ]
  },
  {
   "cell_type": "code",
   "execution_count": 5,
   "metadata": {},
   "outputs": [],
   "source": [
    "syn_df = pd.DataFrame([[0 for _ in range(20)] for _ in range(300)], columns=[i for i in range(20)])\n",
    "\n",
    "for i, basket in enumerate(baskets):\n",
    "    syn_df.iloc[i, basket] = 1"
   ]
  },
  {
   "cell_type": "markdown",
   "metadata": {},
   "source": [
    "Let's check the `DataFrame` representing the synthetic dataset here. In row `0`, the `DataFrame` should contain the value `1` in columns `3`, `10`, `14`, `15`, `17`, and `18`. All other columns in row `0` should contain the value 0. You may check the other values based on the list-of-list representation that we have displayed earlier."
   ]
  },
  {
   "cell_type": "code",
   "execution_count": 6,
   "metadata": {},
   "outputs": [
    {
     "name": "stdout",
     "output_type": "stream",
     "text": [
      "     0   1   2   3   4   5   6   7   8   9   10  11  12  13  14  15  16  17  \\\n",
      "0     0   0   0   1   0   0   0   0   0   0   1   0   0   0   1   1   0   1   \n",
      "1     0   0   1   1   0   1   0   0   1   0   0   0   0   0   0   0   0   1   \n",
      "2     0   0   1   0   0   0   0   0   0   0   0   1   1   0   0   0   1   1   \n",
      "3     0   0   0   0   0   0   0   0   0   0   0   0   0   0   0   0   1   0   \n",
      "4     0   0   0   0   1   1   0   0   0   0   0   0   1   0   0   0   1   0   \n",
      "..   ..  ..  ..  ..  ..  ..  ..  ..  ..  ..  ..  ..  ..  ..  ..  ..  ..  ..   \n",
      "295   0   0   0   0   0   0   0   0   0   0   0   0   0   0   0   1   0   0   \n",
      "296   0   1   0   0   0   1   0   0   0   0   1   1   0   1   0   0   0   1   \n",
      "297   0   1   0   0   0   0   0   0   0   0   0   0   0   0   1   0   0   0   \n",
      "298   1   0   0   1   0   0   0   0   0   0   0   1   0   0   0   0   0   1   \n",
      "299   0   0   0   0   0   0   0   0   0   0   0   0   0   0   0   0   0   0   \n",
      "\n",
      "     18  19  \n",
      "0     1   0  \n",
      "1     0   0  \n",
      "2     1   0  \n",
      "3     0   0  \n",
      "4     0   0  \n",
      "..   ..  ..  \n",
      "295   0   0  \n",
      "296   0   0  \n",
      "297   0   0  \n",
      "298   0   0  \n",
      "299   1   0  \n",
      "\n",
      "[300 rows x 20 columns]\n"
     ]
    }
   ],
   "source": [
    "print(syn_df)"
   ]
  },
  {
   "cell_type": "markdown",
   "metadata": {},
   "source": [
    "## Rule Miner\n",
    "Open `rule_miner.py` file. Some of the functions in the `RuleMiner` class are not yet implemented. We will implement the missing parts of this class."
   ]
  },
  {
   "cell_type": "markdown",
   "metadata": {},
   "source": [
    "Import the `RuleMiner` class"
   ]
  },
  {
   "cell_type": "code",
   "execution_count": 97,
   "metadata": {},
   "outputs": [
    {
     "ename": "ImportError",
     "evalue": "cannot import name 'RuleMiners' from 'rule_miner' (/Users/jolocansana/Cloud/Dev Projects/Python/CSMODEL/3.1 - Finding Association Rules on Grocery Dataset/rule_miner.py)",
     "output_type": "error",
     "traceback": [
      "\u001b[0;31m---------------------------------------------------------------------------\u001b[0m",
      "\u001b[0;31mImportError\u001b[0m                               Traceback (most recent call last)",
      "\u001b[0;32m<ipython-input-97-5fc06ee343bb>\u001b[0m in \u001b[0;36m<module>\u001b[0;34m\u001b[0m\n\u001b[0;32m----> 1\u001b[0;31m \u001b[0;32mfrom\u001b[0m \u001b[0mrule_miner\u001b[0m \u001b[0;32mimport\u001b[0m \u001b[0mRuleMiners\u001b[0m\u001b[0;34m\u001b[0m\u001b[0;34m\u001b[0m\u001b[0m\n\u001b[0m",
      "\u001b[0;31mImportError\u001b[0m: cannot import name 'RuleMiners' from 'rule_miner' (/Users/jolocansana/Cloud/Dev Projects/Python/CSMODEL/3.1 - Finding Association Rules on Grocery Dataset/rule_miner.py)"
     ]
    }
   ],
   "source": [
    "from rule_miner import RuleMiner"
   ]
  },
  {
   "cell_type": "markdown",
   "metadata": {},
   "source": [
    "Instantiate a `RuleMiner` object with `support_t` equal to `10` and `confidence_t` equal to `0.6`. The field `support_t` represents the support threshold, while the field `confidence_t` represents the confidence threshold."
   ]
  },
  {
   "cell_type": "code",
   "execution_count": 94,
   "metadata": {},
   "outputs": [],
   "source": [
    "rule_miner = RuleMiner(10, 0.6)"
   ]
  },
  {
   "cell_type": "markdown",
   "metadata": {},
   "source": [
    "Open `rule_miner.py` file and complete the `get_support()` function. This function returns the support for an itemset. The support of an itemset refers to the number of baskets wherein the itemset is present."
   ]
  },
  {
   "cell_type": "markdown",
   "metadata": {},
   "source": [
    "Implement the `get_support()` function. Inline comments should help you in completing the contents of the function. Upon implementing the function, execute the code below then answer the questions."
   ]
  },
  {
   "cell_type": "code",
   "execution_count": 95,
   "metadata": {},
   "outputs": [
    {
     "name": "stdout",
     "output_type": "stream",
     "text": [
      "4\n"
     ]
    }
   ],
   "source": [
    "df1 = syn_df[[0,1,2]] \n",
    "df1all = df1.all('columns')\n",
    "print(df1all.sum())"
   ]
  },
  {
   "cell_type": "code",
   "execution_count": 96,
   "metadata": {},
   "outputs": [
    {
     "name": "stdout",
     "output_type": "stream",
     "text": [
      "None\n",
      "None\n",
      "None\n"
     ]
    }
   ],
   "source": [
    "print(rule_miner.get_support(syn_df, [0]))\n",
    "print(rule_miner.get_support(syn_df, [0, 1]))\n",
    "print(rule_miner.get_support(syn_df, [0, 1, 2]))"
   ]
  },
  {
   "cell_type": "markdown",
   "metadata": {},
   "source": [
    "**Question:** What is the support of the itemset `{0}`? \n",
    "- *Write your answer here.*"
   ]
  },
  {
   "cell_type": "markdown",
   "metadata": {},
   "source": [
    "**Question:** What is the support of the itemset `{0, 1}`? \n",
    "- *Write your answer here.*"
   ]
  },
  {
   "cell_type": "markdown",
   "metadata": {},
   "source": [
    "**Question:** What is the support of the itemset `{0, 1, 2}`? \n",
    "- *Write your answer here.*"
   ]
  },
  {
   "cell_type": "markdown",
   "metadata": {},
   "source": [
    "Open `rule_miner.py` file again and complete the `get_frequent_itemsets()` function. This function returns a list frequent itemsets in the dataset. The support of each frequent itemset should be greater than or equal to the support threshold."
   ]
  },
  {
   "cell_type": "markdown",
   "metadata": {},
   "source": [
    "Implement the `get_frequent_itemsets()` function. Inline comments should help you in completing the contents of the function. Upon implementing the function, execute the code below then answer the questions."
   ]
  },
  {
   "cell_type": "code",
   "execution_count": null,
   "metadata": {},
   "outputs": [],
   "source": [
    "frequent_itemsets = rule_miner.get_frequent_itemsets(syn_df)\n",
    "print(frequent_itemsets)"
   ]
  },
  {
   "cell_type": "markdown",
   "metadata": {},
   "source": [
    "**Question:** List all the frequent itemsets in the dataset, given the support threshold `10`.\n",
    "- *Write your answer here.*"
   ]
  },
  {
   "cell_type": "markdown",
   "metadata": {},
   "source": [
    "Using the `get_rules()` function in `rule_miner.py`, let us list all the possible rules for all frequent itemsets in our dataset. The `get_rules()` function returns a list of rules produced from an itemset."
   ]
  },
  {
   "cell_type": "code",
   "execution_count": null,
   "metadata": {},
   "outputs": [],
   "source": [
    "for itemset in frequent_itemsets:\n",
    "    print(rule_miner.get_rules(itemset))"
   ]
  },
  {
   "cell_type": "markdown",
   "metadata": {},
   "source": [
    "Upon getting all the possible rules based on our most frequent itemsets, we should check if the confidence of each rule is greater than or equal to the confidence threshold that we set.\n",
    "\n",
    "To do this, open `rule_miner.py` file again and complete the `get_confidence()` function. This function returns the confidence for a rule. Suppose that we want to find the rule is `{1, 2} -> {3}`, then the confidence for the rule is the support of `{1, 2, 3}` divided by the support of `{1, 2}`. In this code, we represent a rule using a list which contains 2 lists -  the first list contains the left-hand side of the rule (which in our example is `{1, 2}`), and the second list contains the right-hand side of the rule (which in our example is `{3}`)."
   ]
  },
  {
   "cell_type": "markdown",
   "metadata": {},
   "source": [
    "Implement the `get_confidence()` function. Inline comments should help you in completing the contents of the function. Upon implementing the function, execute the code below then answer the questions."
   ]
  },
  {
   "cell_type": "code",
   "execution_count": null,
   "metadata": {},
   "outputs": [],
   "source": [
    "print(rule_miner.get_confidence(syn_df, [[1, 2], [3]]))\n",
    "print(rule_miner.get_confidence(syn_df, [[4, 5], [6]]))\n",
    "print(rule_miner.get_confidence(syn_df, [[7, 8], [9]]))"
   ]
  },
  {
   "cell_type": "markdown",
   "metadata": {},
   "source": [
    "**Question:** What is the confidence of the rule `{1, 2} -> {3}`? \n",
    "- *Write your answer here.*"
   ]
  },
  {
   "cell_type": "markdown",
   "metadata": {},
   "source": [
    "**Question:** What is the confidence of the rule `{4, 5} -> {6}`? \n",
    "- *Write your answer here.*"
   ]
  },
  {
   "cell_type": "markdown",
   "metadata": {},
   "source": [
    "**Question:** What is the confidence of the rule `{7, 8} -> {9}`? \n",
    "- *Write your answer here.*"
   ]
  },
  {
   "cell_type": "markdown",
   "metadata": {},
   "source": [
    "We have now completed all functions necessary for our rule miner. The only function left to implement is the `get_association_rules()` function, which integrates all of these functions together.\n",
    "\n",
    "Open `rule_miner.py` file again and complete the `get_association_rules()` function. This function returns a list of association rules with support greater than or equal to the support threshold `support_t` and confidence greater than or equal to the confidence threshold `confidence_t`."
   ]
  },
  {
   "cell_type": "markdown",
   "metadata": {},
   "source": [
    "Implement the `get_association_rules()` function. Inline comments should help you in completing the contents of the function. Upon implementing the function, execute the code below then answer the questions."
   ]
  },
  {
   "cell_type": "markdown",
   "metadata": {},
   "source": [
    "With `support_t` equal to `10`, and `confidence_t` equal to `0.6`, let's get the association rules from this dataset."
   ]
  },
  {
   "cell_type": "code",
   "execution_count": null,
   "metadata": {},
   "outputs": [],
   "source": [
    "rules = rule_miner.get_association_rules(syn_df)\n",
    "print(rules)"
   ]
  },
  {
   "cell_type": "markdown",
   "metadata": {},
   "source": [
    "**Question:** What is/are the association rules that we derived from the dataset?\n",
    "- *Write your answer here.*"
   ]
  },
  {
   "cell_type": "markdown",
   "metadata": {},
   "source": [
    "## Grocery Dataset\n",
    "For this notebook, we will work on a dataset called `grocery dataset`. This dataset contains 9835 rows which represents transactions by customers shopping for groceries. The dataset contains 169 unique items.\n",
    "\n",
    "The dataset is provided to you as a `.csv` file. `.csv` means comma-separated values. You can open the file in Notepad to see how it is exactly formatted."
   ]
  },
  {
   "cell_type": "markdown",
   "metadata": {},
   "source": [
    "If you view the `.csv` file in Excel, you can see that our dataset contains a list of items bought by a customer for each single transaction, represented in rows."
   ]
  },
  {
   "cell_type": "code",
   "execution_count": null,
   "metadata": {},
   "outputs": [],
   "source": [
    "temp_df = pd.read_csv(\"groceries.csv\", header=None)"
   ]
  },
  {
   "cell_type": "markdown",
   "metadata": {},
   "source": [
    "Let's convert the items, represented as strings, to integers. To do this, let's create a dictionary that will contain the mapping for each item string to its corresponding integer. The dictionary should contain 169 unique strings, with integer mapping from 0 to 168."
   ]
  },
  {
   "cell_type": "code",
   "execution_count": null,
   "metadata": {},
   "outputs": [],
   "source": [
    "values = temp_df.values.ravel()\n",
    "values = [value for value in pd.unique(values) if not pd.isnull(value)]\n",
    "\n",
    "value_dict = {}\n",
    "for i, value in enumerate(values):\n",
    "    value_dict[value] = i\n",
    "    \n",
    "print(value_dict)"
   ]
  },
  {
   "cell_type": "markdown",
   "metadata": {},
   "source": [
    "As of now, the `DataFrame` representation of the transaction contains 9835 rows, wherein each row contains a list of string representing the items bought for each transaction. We want to convert this representation to a list of list, with the corresponding integers as value instead of the strings."
   ]
  },
  {
   "cell_type": "code",
   "execution_count": null,
   "metadata": {},
   "outputs": [],
   "source": [
    "temp_df = temp_df.stack().map(value_dict).unstack()\n",
    "\n",
    "baskets = []\n",
    "for i in range(temp_df.shape[0]):\n",
    "    basket = np.sort([int(x) for x in temp_df.iloc[i].values.tolist() if str(x) != 'nan'])\n",
    "    baskets.append(basket)"
   ]
  },
  {
   "cell_type": "markdown",
   "metadata": {},
   "source": [
    "Let's display the contents of the dataset. It should list 9835 baskets with its contents."
   ]
  },
  {
   "cell_type": "code",
   "execution_count": null,
   "metadata": {},
   "outputs": [],
   "source": [
    "for i, basket in enumerate(baskets):\n",
    "    print('Basket', i, basket)"
   ]
  },
  {
   "cell_type": "markdown",
   "metadata": {},
   "source": [
    "As of now, our dataset is represented as a list of list. Instead of using this representation, we will convert our dataset to a matrix represented as a `pandas` `DataFrame`. The `DataFrame` will contain 9835 rows - equivalent to the number of observations in the dataset, and 169 columns - equivalent to the number of distinct items in the dataset. The value in the cell in row `x` and column `y` is 1 if item `y` is in observation (basket) `x`, otherwise, the value in the cell in row `x` and column `y` is 0."
   ]
  },
  {
   "cell_type": "code",
   "execution_count": null,
   "metadata": {},
   "outputs": [],
   "source": [
    "grocery_df = pd.DataFrame([[0 for _ in range(169)] for _ in range(9835)], columns=values)\n",
    "\n",
    "for i, basket in enumerate(baskets):\n",
    "    grocery_df.iloc[i, basket] = 1"
   ]
  },
  {
   "cell_type": "markdown",
   "metadata": {},
   "source": [
    "Let's check the `DataFrame` representing the dataset here. In row `0`, the `DataFrame` should contain the value `1` in columns `citrus fruit`, `semi-finished bread`, `margarine`, and `ready soups`. All other columns in row `0` should contain the value 0. You may check the other values based on the list-of-list representation that we have displayed earlier."
   ]
  },
  {
   "cell_type": "code",
   "execution_count": null,
   "metadata": {},
   "outputs": [],
   "source": [
    "print(grocery_df)"
   ]
  },
  {
   "cell_type": "markdown",
   "metadata": {},
   "source": [
    "Instantiate a `RuleMiner` object with `support_t` equal to `85` and `confidence_t` equal to `0.6`. The field `support_t` represents the support threshold, while the field `confidence_t` represents the confidence threshold."
   ]
  },
  {
   "cell_type": "code",
   "execution_count": null,
   "metadata": {},
   "outputs": [],
   "source": [
    "rule_miner = RuleMiner(85, 0.6)"
   ]
  },
  {
   "cell_type": "markdown",
   "metadata": {},
   "source": [
    "With `support_t` equal to `85`, and `confidence_t` equal to `0.6`, let's get the association rules from this dataset."
   ]
  },
  {
   "cell_type": "code",
   "execution_count": null,
   "metadata": {},
   "outputs": [],
   "source": [
    "rules = rule_miner.get_association_rules(grocery_df)\n",
    "print(rules)"
   ]
  },
  {
   "cell_type": "markdown",
   "metadata": {},
   "source": [
    "**Question:** What is/are the association rules that we derived from the dataset?\n",
    "- *Write your answer here.*"
   ]
  },
  {
   "cell_type": "code",
   "execution_count": null,
   "metadata": {},
   "outputs": [],
   "source": []
  }
 ],
 "metadata": {
  "kernelspec": {
   "display_name": "Python 3",
   "language": "python",
   "name": "python3"
  },
  "language_info": {
   "codemirror_mode": {
    "name": "ipython",
    "version": 3
   },
   "file_extension": ".py",
   "mimetype": "text/x-python",
   "name": "python",
   "nbconvert_exporter": "python",
   "pygments_lexer": "ipython3",
   "version": "3.7.4"
  }
 },
 "nbformat": 4,
 "nbformat_minor": 4
}
